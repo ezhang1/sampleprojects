{
 "cells": [
  {
   "cell_type": "markdown",
   "metadata": {},
   "source": [
    "# Data Log\n",
    "### Prior research \n",
    "~~~\n",
    "https://www.insurancefraud.org/statistics.htm\n",
    "\n",
    "* States w/ highest fraud rates (according to the article): MA|FL|CA|MI|NY\n",
    "* State we cover in the model: OK|NE|MO|IA|KA\n",
    "~~~\n",
    "### Dataset Observations\n",
    "* Data contains only 5 states\n",
    "* There is only 1 fire fraudulent claim\n",
    "* Missing/Null Variables: Education|Location|Outstanding_Balance\n",
    "* 14 Nominal variables | 7 Interval Variables\n",
    "* Binary Target Variable will be Fraudulent_Claim\n",
    "* ~5000 records\n",
    "\n",
    "### Hypothesis\n",
    "* Which states have the highest likelihood for auto insurance fraud to occur based on vehicle models and claim clause? Are there any correlations between the car details and location?\n",
    "\n",
    "### Libraries Used\n",
    "* Seaborn\n",
    "* Statsmodel\n",
    "* Pyplot"
   ]
  },
  {
   "cell_type": "markdown",
   "metadata": {},
   "source": [
    "# Dataset Importation\n",
    "* Usage of numpy and pandas allow us to easily utilize the csv file \n",
    "* Usage of sklearn w/ train_test_split and preprocessing to help us train our datasets and test them against another file\n",
    "---\n",
    "* Run a .sample to see if we imported data correctly."
   ]
  },
  {
   "cell_type": "code",
   "execution_count": 268,
   "metadata": {
    "scrolled": false
   },
   "outputs": [
    {
     "data": {
      "text/html": [
       "<div>\n",
       "<style scoped>\n",
       "    .dataframe tbody tr th:only-of-type {\n",
       "        vertical-align: middle;\n",
       "    }\n",
       "\n",
       "    .dataframe tbody tr th {\n",
       "        vertical-align: top;\n",
       "    }\n",
       "\n",
       "    .dataframe thead th {\n",
       "        text-align: right;\n",
       "    }\n",
       "</style>\n",
       "<table border=\"1\" class=\"dataframe\">\n",
       "  <thead>\n",
       "    <tr style=\"text-align: right;\">\n",
       "      <th></th>\n",
       "      <th>State_Code</th>\n",
       "      <th>State</th>\n",
       "      <th>Claim_Amount</th>\n",
       "      <th>Education</th>\n",
       "      <th>Claim_Date</th>\n",
       "      <th>Employment_Status</th>\n",
       "      <th>Gender</th>\n",
       "      <th>Income</th>\n",
       "      <th>Location</th>\n",
       "      <th>Marital_Status</th>\n",
       "      <th>...</th>\n",
       "      <th>Months_Since_Last_Claim</th>\n",
       "      <th>Months_Since_Policy_Inception</th>\n",
       "      <th>Claim_Cause</th>\n",
       "      <th>Claim_Report_Type</th>\n",
       "      <th>Vehicle_Class</th>\n",
       "      <th>Vehicle_Size</th>\n",
       "      <th>Vehicle_Model</th>\n",
       "      <th>Outstanding_Balance</th>\n",
       "      <th>Fraudulent_Claim</th>\n",
       "      <th>Claimant__Number</th>\n",
       "    </tr>\n",
       "  </thead>\n",
       "  <tbody>\n",
       "    <tr>\n",
       "      <th>1598</th>\n",
       "      <td>MO</td>\n",
       "      <td>Missouri</td>\n",
       "      <td>802.522936</td>\n",
       "      <td>College</td>\n",
       "      <td>12/1/2018</td>\n",
       "      <td>Unemployed</td>\n",
       "      <td>F</td>\n",
       "      <td>0</td>\n",
       "      <td>Rural</td>\n",
       "      <td>Single</td>\n",
       "      <td>...</td>\n",
       "      <td>20</td>\n",
       "      <td>26</td>\n",
       "      <td>Scratch/Dent</td>\n",
       "      <td>Branch</td>\n",
       "      <td>Two-Door Car</td>\n",
       "      <td>Luxury</td>\n",
       "      <td>Chevrolet</td>\n",
       "      <td>7767.0</td>\n",
       "      <td>N</td>\n",
       "      <td>1081</td>\n",
       "    </tr>\n",
       "    <tr>\n",
       "      <th>2390</th>\n",
       "      <td>MO</td>\n",
       "      <td>Missouri</td>\n",
       "      <td>1280.709083</td>\n",
       "      <td>College</td>\n",
       "      <td>12/15/2018</td>\n",
       "      <td>Unemployed</td>\n",
       "      <td>F</td>\n",
       "      <td>0</td>\n",
       "      <td>Suburban</td>\n",
       "      <td>Married</td>\n",
       "      <td>...</td>\n",
       "      <td>32</td>\n",
       "      <td>21</td>\n",
       "      <td>Collision</td>\n",
       "      <td>Agent</td>\n",
       "      <td>Four-Door Car</td>\n",
       "      <td>Compact</td>\n",
       "      <td>Honda</td>\n",
       "      <td>42383.0</td>\n",
       "      <td>N</td>\n",
       "      <td>3781</td>\n",
       "    </tr>\n",
       "    <tr>\n",
       "      <th>3884</th>\n",
       "      <td>KS</td>\n",
       "      <td>Kansas</td>\n",
       "      <td>3006.169259</td>\n",
       "      <td>High School or Below</td>\n",
       "      <td>12/15/2018</td>\n",
       "      <td>Employed</td>\n",
       "      <td>M</td>\n",
       "      <td>48258</td>\n",
       "      <td>Suburban</td>\n",
       "      <td>Married</td>\n",
       "      <td>...</td>\n",
       "      <td>12</td>\n",
       "      <td>86</td>\n",
       "      <td>Collision</td>\n",
       "      <td>Branch</td>\n",
       "      <td>Luxury Car</td>\n",
       "      <td>Midsize</td>\n",
       "      <td>Chevrolet</td>\n",
       "      <td>29922.0</td>\n",
       "      <td>N</td>\n",
       "      <td>3295</td>\n",
       "    </tr>\n",
       "    <tr>\n",
       "      <th>2789</th>\n",
       "      <td>IA</td>\n",
       "      <td>Iowa</td>\n",
       "      <td>1420.698091</td>\n",
       "      <td>College</td>\n",
       "      <td>1/15/2019</td>\n",
       "      <td>Disabled</td>\n",
       "      <td>F</td>\n",
       "      <td>26056</td>\n",
       "      <td>Suburban</td>\n",
       "      <td>Married</td>\n",
       "      <td>...</td>\n",
       "      <td>17</td>\n",
       "      <td>73</td>\n",
       "      <td>Collision</td>\n",
       "      <td>Branch</td>\n",
       "      <td>Four-Door Car</td>\n",
       "      <td>Midsize</td>\n",
       "      <td>Ford</td>\n",
       "      <td>20289.0</td>\n",
       "      <td>N</td>\n",
       "      <td>5264</td>\n",
       "    </tr>\n",
       "    <tr>\n",
       "      <th>1130</th>\n",
       "      <td>NE</td>\n",
       "      <td>Nebraska</td>\n",
       "      <td>645.126384</td>\n",
       "      <td>Bachelor</td>\n",
       "      <td>12/15/2018</td>\n",
       "      <td>Employed</td>\n",
       "      <td>F</td>\n",
       "      <td>30857</td>\n",
       "      <td>Urban</td>\n",
       "      <td>Married</td>\n",
       "      <td>...</td>\n",
       "      <td>17</td>\n",
       "      <td>14</td>\n",
       "      <td>Scratch/Dent</td>\n",
       "      <td>Web</td>\n",
       "      <td>Two-Door Car</td>\n",
       "      <td>Luxury</td>\n",
       "      <td>Toyota</td>\n",
       "      <td>36379.0</td>\n",
       "      <td>N</td>\n",
       "      <td>4793</td>\n",
       "    </tr>\n",
       "  </tbody>\n",
       "</table>\n",
       "<p>5 rows × 22 columns</p>\n",
       "</div>"
      ],
      "text/plain": [
       "     State_Code     State  Claim_Amount             Education  Claim_Date  \\\n",
       "1598         MO  Missouri    802.522936               College   12/1/2018   \n",
       "2390         MO  Missouri   1280.709083               College  12/15/2018   \n",
       "3884         KS    Kansas   3006.169259  High School or Below  12/15/2018   \n",
       "2789         IA      Iowa   1420.698091               College   1/15/2019   \n",
       "1130         NE  Nebraska    645.126384              Bachelor  12/15/2018   \n",
       "\n",
       "     Employment_Status Gender  Income  Location Marital_Status  \\\n",
       "1598        Unemployed      F       0     Rural         Single   \n",
       "2390        Unemployed      F       0  Suburban        Married   \n",
       "3884          Employed      M   48258  Suburban        Married   \n",
       "2789          Disabled      F   26056  Suburban        Married   \n",
       "1130          Employed      F   30857     Urban        Married   \n",
       "\n",
       "            ...         Months_Since_Last_Claim  \\\n",
       "1598        ...                              20   \n",
       "2390        ...                              32   \n",
       "3884        ...                              12   \n",
       "2789        ...                              17   \n",
       "1130        ...                              17   \n",
       "\n",
       "      Months_Since_Policy_Inception   Claim_Cause  Claim_Report_Type  \\\n",
       "1598                             26  Scratch/Dent             Branch   \n",
       "2390                             21     Collision              Agent   \n",
       "3884                             86     Collision             Branch   \n",
       "2789                             73     Collision             Branch   \n",
       "1130                             14  Scratch/Dent                Web   \n",
       "\n",
       "      Vehicle_Class Vehicle_Size Vehicle_Model Outstanding_Balance  \\\n",
       "1598   Two-Door Car       Luxury     Chevrolet              7767.0   \n",
       "2390  Four-Door Car      Compact         Honda             42383.0   \n",
       "3884     Luxury Car      Midsize     Chevrolet             29922.0   \n",
       "2789  Four-Door Car      Midsize          Ford             20289.0   \n",
       "1130   Two-Door Car       Luxury        Toyota             36379.0   \n",
       "\n",
       "     Fraudulent_Claim  Claimant__Number  \n",
       "1598                N              1081  \n",
       "2390                N              3781  \n",
       "3884                N              3295  \n",
       "2789                N              5264  \n",
       "1130                N              4793  \n",
       "\n",
       "[5 rows x 22 columns]"
      ]
     },
     "execution_count": 268,
     "metadata": {},
     "output_type": "execute_result"
    }
   ],
   "source": [
    "import numpy as np\n",
    "#Easily import csv files from a spreadsheet \n",
    "import pandas as pd\n",
    "from sklearn.cross_validation import train_test_split\n",
    "from sklearn import preprocessing\n",
    "\n",
    "Test = pd.read_csv('claim_data_v2_train.csv')\n",
    "Score = pd.read_csv('Claim_Score_Dataset.csv')\n",
    "Test.sample(5)"
   ]
  },
  {
   "cell_type": "markdown",
   "metadata": {},
   "source": [
    "# Encoding Part I\n",
    "* By converting each column into numerical data via sklearn preprocessing, we can allow more complex algorithims to work with the data and help us gain more insight. For now, we have only coded Fraudulent_Claim so we may look at some visualizations later on. \n",
    "* When we test for accuracy, we will end up encoding all other variables."
   ]
  },
  {
   "cell_type": "code",
   "execution_count": 269,
   "metadata": {},
   "outputs": [],
   "source": [
    "from sklearn import preprocessing \n",
    "def encode_features(df_Test): \n",
    "    features = ['Fraudulent_Claim']\n",
    "    for feature in features: \n",
    "        le = preprocessing.LabelEncoder() \n",
    "        le = le.fit(df_Test[feature]) \n",
    "        df_Test[feature] = le.transform(df_Test[feature]) \n",
    "    return df_Test"
   ]
  },
  {
   "cell_type": "code",
   "execution_count": 270,
   "metadata": {
    "scrolled": true
   },
   "outputs": [
    {
     "data": {
      "text/html": [
       "<div>\n",
       "<style scoped>\n",
       "    .dataframe tbody tr th:only-of-type {\n",
       "        vertical-align: middle;\n",
       "    }\n",
       "\n",
       "    .dataframe tbody tr th {\n",
       "        vertical-align: top;\n",
       "    }\n",
       "\n",
       "    .dataframe thead th {\n",
       "        text-align: right;\n",
       "    }\n",
       "</style>\n",
       "<table border=\"1\" class=\"dataframe\">\n",
       "  <thead>\n",
       "    <tr style=\"text-align: right;\">\n",
       "      <th></th>\n",
       "      <th>State_Code</th>\n",
       "      <th>State</th>\n",
       "      <th>Claim_Amount</th>\n",
       "      <th>Education</th>\n",
       "      <th>Claim_Date</th>\n",
       "      <th>Employment_Status</th>\n",
       "      <th>Gender</th>\n",
       "      <th>Income</th>\n",
       "      <th>Location</th>\n",
       "      <th>Marital_Status</th>\n",
       "      <th>...</th>\n",
       "      <th>Months_Since_Last_Claim</th>\n",
       "      <th>Months_Since_Policy_Inception</th>\n",
       "      <th>Claim_Cause</th>\n",
       "      <th>Claim_Report_Type</th>\n",
       "      <th>Vehicle_Class</th>\n",
       "      <th>Vehicle_Size</th>\n",
       "      <th>Vehicle_Model</th>\n",
       "      <th>Outstanding_Balance</th>\n",
       "      <th>Fraudulent_Claim</th>\n",
       "      <th>Claimant__Number</th>\n",
       "    </tr>\n",
       "  </thead>\n",
       "  <tbody>\n",
       "    <tr>\n",
       "      <th>0</th>\n",
       "      <td>NE</td>\n",
       "      <td>Nebraska</td>\n",
       "      <td>2412.750402</td>\n",
       "      <td>Bachelor</td>\n",
       "      <td>12/1/2018</td>\n",
       "      <td>Medical Leave</td>\n",
       "      <td>M</td>\n",
       "      <td>14072</td>\n",
       "      <td>Suburban</td>\n",
       "      <td>Divorced</td>\n",
       "      <td>...</td>\n",
       "      <td>13</td>\n",
       "      <td>3</td>\n",
       "      <td>Collision</td>\n",
       "      <td>Agent</td>\n",
       "      <td>Four-Door Car</td>\n",
       "      <td>Midsize</td>\n",
       "      <td>Ford</td>\n",
       "      <td>15105.0</td>\n",
       "      <td>1</td>\n",
       "      <td>1023</td>\n",
       "    </tr>\n",
       "    <tr>\n",
       "      <th>1</th>\n",
       "      <td>NE</td>\n",
       "      <td>Nebraska</td>\n",
       "      <td>550.413903</td>\n",
       "      <td>Bachelor</td>\n",
       "      <td>12/1/2018</td>\n",
       "      <td>Unemployed</td>\n",
       "      <td>F</td>\n",
       "      <td>0</td>\n",
       "      <td>Suburban</td>\n",
       "      <td>Married</td>\n",
       "      <td>...</td>\n",
       "      <td>18</td>\n",
       "      <td>45</td>\n",
       "      <td>Collision</td>\n",
       "      <td>Call Center</td>\n",
       "      <td>Four-Door Car</td>\n",
       "      <td>Midsize</td>\n",
       "      <td>Honda</td>\n",
       "      <td>10728.0</td>\n",
       "      <td>1</td>\n",
       "      <td>1231</td>\n",
       "    </tr>\n",
       "    <tr>\n",
       "      <th>2</th>\n",
       "      <td>MO</td>\n",
       "      <td>Missouri</td>\n",
       "      <td>531.889664</td>\n",
       "      <td>Bachelor</td>\n",
       "      <td>12/1/2018</td>\n",
       "      <td>Employed</td>\n",
       "      <td>M</td>\n",
       "      <td>25134</td>\n",
       "      <td>Suburban</td>\n",
       "      <td>Married</td>\n",
       "      <td>...</td>\n",
       "      <td>3</td>\n",
       "      <td>0</td>\n",
       "      <td>Hail</td>\n",
       "      <td>Call Center</td>\n",
       "      <td>Four-Door Car</td>\n",
       "      <td>Compact</td>\n",
       "      <td>Honda</td>\n",
       "      <td>17654.0</td>\n",
       "      <td>1</td>\n",
       "      <td>1310</td>\n",
       "    </tr>\n",
       "    <tr>\n",
       "      <th>3</th>\n",
       "      <td>IA</td>\n",
       "      <td>Iowa</td>\n",
       "      <td>471.976219</td>\n",
       "      <td>Bachelor</td>\n",
       "      <td>12/1/2018</td>\n",
       "      <td>Employed</td>\n",
       "      <td>M</td>\n",
       "      <td>37057</td>\n",
       "      <td>Rural</td>\n",
       "      <td>Married</td>\n",
       "      <td>...</td>\n",
       "      <td>5</td>\n",
       "      <td>48</td>\n",
       "      <td>Collision</td>\n",
       "      <td>Agent</td>\n",
       "      <td>Four-Door Car</td>\n",
       "      <td>Compact</td>\n",
       "      <td>Honda</td>\n",
       "      <td>28344.0</td>\n",
       "      <td>1</td>\n",
       "      <td>1311</td>\n",
       "    </tr>\n",
       "    <tr>\n",
       "      <th>4</th>\n",
       "      <td>IA</td>\n",
       "      <td>Iowa</td>\n",
       "      <td>245.357079</td>\n",
       "      <td>Bachelor</td>\n",
       "      <td>12/1/2018</td>\n",
       "      <td>Medical Leave</td>\n",
       "      <td>M</td>\n",
       "      <td>29735</td>\n",
       "      <td>Suburban</td>\n",
       "      <td>Single</td>\n",
       "      <td>...</td>\n",
       "      <td>3</td>\n",
       "      <td>92</td>\n",
       "      <td>Collision</td>\n",
       "      <td>Agent</td>\n",
       "      <td>Four-Door Car</td>\n",
       "      <td>Midsize</td>\n",
       "      <td>Chevrolet</td>\n",
       "      <td>17945.0</td>\n",
       "      <td>1</td>\n",
       "      <td>1364</td>\n",
       "    </tr>\n",
       "  </tbody>\n",
       "</table>\n",
       "<p>5 rows × 22 columns</p>\n",
       "</div>"
      ],
      "text/plain": [
       "  State_Code     State  Claim_Amount Education Claim_Date Employment_Status  \\\n",
       "0         NE  Nebraska   2412.750402  Bachelor  12/1/2018     Medical Leave   \n",
       "1         NE  Nebraska    550.413903  Bachelor  12/1/2018        Unemployed   \n",
       "2         MO  Missouri    531.889664  Bachelor  12/1/2018          Employed   \n",
       "3         IA      Iowa    471.976219  Bachelor  12/1/2018          Employed   \n",
       "4         IA      Iowa    245.357079  Bachelor  12/1/2018     Medical Leave   \n",
       "\n",
       "  Gender  Income  Location Marital_Status        ...         \\\n",
       "0      M   14072  Suburban       Divorced        ...          \n",
       "1      F       0  Suburban        Married        ...          \n",
       "2      M   25134  Suburban        Married        ...          \n",
       "3      M   37057     Rural        Married        ...          \n",
       "4      M   29735  Suburban         Single        ...          \n",
       "\n",
       "   Months_Since_Last_Claim  Months_Since_Policy_Inception  Claim_Cause  \\\n",
       "0                       13                              3    Collision   \n",
       "1                       18                             45    Collision   \n",
       "2                        3                              0         Hail   \n",
       "3                        5                             48    Collision   \n",
       "4                        3                             92    Collision   \n",
       "\n",
       "   Claim_Report_Type  Vehicle_Class Vehicle_Size Vehicle_Model  \\\n",
       "0              Agent  Four-Door Car      Midsize          Ford   \n",
       "1        Call Center  Four-Door Car      Midsize         Honda   \n",
       "2        Call Center  Four-Door Car      Compact         Honda   \n",
       "3              Agent  Four-Door Car      Compact         Honda   \n",
       "4              Agent  Four-Door Car      Midsize     Chevrolet   \n",
       "\n",
       "  Outstanding_Balance Fraudulent_Claim  Claimant__Number  \n",
       "0             15105.0                1              1023  \n",
       "1             10728.0                1              1231  \n",
       "2             17654.0                1              1310  \n",
       "3             28344.0                1              1311  \n",
       "4             17945.0                1              1364  \n",
       "\n",
       "[5 rows x 22 columns]"
      ]
     },
     "execution_count": 270,
     "metadata": {},
     "output_type": "execute_result"
    }
   ],
   "source": [
    "Test = encode_features(Test) \n",
    "Score = encode_features(Score)\n",
    "Test.head()"
   ]
  },
  {
   "cell_type": "markdown",
   "metadata": {},
   "source": [
    "# Defining Variables\n",
    "* Defining df statements to contain certain range or criteria elements for chosen variables."
   ]
  },
  {
   "cell_type": "markdown",
   "metadata": {},
   "source": [
    "### Simplify Claimamount\n",
    "* Chose to bin claim amounts into different ranges rising by 250 intervals and then by 1000 intervtals"
   ]
  },
  {
   "cell_type": "code",
   "execution_count": 271,
   "metadata": {},
   "outputs": [],
   "source": [
    "def simplify_claimamount(df): \n",
    "    df.Claim_Amount = df.Claim_Amount.fillna(-0.5) \n",
    "    bins = (-1, 0, 250, 500, 750, 1000, 2000, 3000, 10000) \n",
    "    group_names = ['Uknown', 'Minor', 'Low', 'Moderate', 'Upper Moderate', 'High', 'Very High', 'Insane'] \n",
    "    categories = pd.cut(df.Claim_Amount, bins, labels=group_names) \n",
    "    df.Claim_Amount = categories \n",
    "    return df"
   ]
  },
  {
   "cell_type": "markdown",
   "metadata": {},
   "source": [
    "# Justification for Binning Claim Amount\n",
    "* We had tried testing Logistic Regression to see if there was any significance with interval variables. After testing each numerical variable against another, we determined there is no defined correlation between them. "
   ]
  },
  {
   "cell_type": "markdown",
   "metadata": {},
   "source": [
    "### Simple Scatterplot\n",
    "* By testing Months Since Last Claim against Claim Amount, our goal was to see whether or not Claim Amount increased as the Months Since Last Claim grew...AKA do fraudulent people wait longer on higher-paying claims?"
   ]
  },
  {
   "cell_type": "code",
   "execution_count": 272,
   "metadata": {
    "scrolled": true
   },
   "outputs": [
    {
     "data": {
      "text/plain": [
       "<matplotlib.axes._subplots.AxesSubplot at 0x18df1578160>"
      ]
     },
     "execution_count": 272,
     "metadata": {},
     "output_type": "execute_result"
    },
    {
     "data": {
      "image/png": "[encoded data removed]",
      "text/plain": [
       "<Figure size 432x288 with 1 Axes>"
      ]
     },
     "metadata": {},
     "output_type": "display_data"
    }
   ],
   "source": [
    "Test.plot(kind='scatter', x='Months_Since_Last_Claim', y='Claim_Amount')"
   ]
  },
  {
   "cell_type": "markdown",
   "metadata": {},
   "source": [
    "### Logistic Regression Plot\n",
    "* Using the same variables, Months Since Last Claim and Claim Amount, we wanted to test a line of best fit to see if there truly was a correlation between the two variables. By importing datasets and linear_model from sklearn (as well as matplotlib.pyplot) we were allowed to utilize X and Y axis to create our graphic. \n",
    "---\n",
    "* X_train and Y_train output the line of best fit while X_test and Y_test output the scatterplot.\n",
    "* We define 'regr' to create a linear regression, train it with test data, then plot the points"
   ]
  },
  {
   "cell_type": "code",
   "execution_count": 273,
   "metadata": {
    "scrolled": true
   },
   "outputs": [
    {
     "data": {
      "image/png": "[encoded data removed]",
      "text/plain": [
       "<Figure size 432x288 with 1 Axes>"
      ]
     },
     "metadata": {},
     "output_type": "display_data"
    }
   ],
   "source": [
    "import matplotlib.pyplot as plt\n",
    "from sklearn import datasets, linear_model\n",
    "\n",
    "\n",
    "Y = Test['Claim_Amount']\n",
    "X = Test['Months_Since_Last_Claim']\n",
    " \n",
    "X=X.values.reshape(len(X),1)\n",
    "Y=Y.values.reshape(len(Y),1)\n",
    " \n",
    "# Split the data into training/testing sets\n",
    "X_train = X[:-250]\n",
    "X_test = X[-250:]\n",
    " \n",
    "# Split the targets into training/testing sets\n",
    "Y_train = Y[:-250]\n",
    "Y_test = Y[-250:]\n",
    " \n",
    "# Plot outputs\n",
    "plt.scatter(X_test, Y_test,  color='black')\n",
    "plt.title('Test')\n",
    "plt.xlabel('Months_Since_Last_Claim')\n",
    "plt.ylabel('Claim_Amount')\n",
    "plt.xticks(())\n",
    "plt.yticks(())\n",
    "\n",
    "# Create linear regression object\n",
    "regr = linear_model.LinearRegression()\n",
    " \n",
    "# Train the model using the training sets\n",
    "regr.fit(X_train, Y_train)\n",
    " \n",
    "# Plot outputs\n",
    "plt.plot(X_test, regr.predict(X_test), color='red',linewidth=3)\n",
    "\n",
    "plt.show()"
   ]
  },
  {
   "cell_type": "markdown",
   "metadata": {},
   "source": [
    "### Simplify Education\n",
    "* We are imputing null values as missing values."
   ]
  },
  {
   "cell_type": "code",
   "execution_count": 274,
   "metadata": {},
   "outputs": [],
   "source": [
    "def simplify_education(df): \n",
    "    df.Education = df.Education.fillna('Missing') \n",
    "    return df"
   ]
  },
  {
   "cell_type": "markdown",
   "metadata": {},
   "source": [
    "### Drop Variables\n",
    "* We decided to remove these variables from the overall model."
   ]
  },
  {
   "cell_type": "code",
   "execution_count": 275,
   "metadata": {},
   "outputs": [],
   "source": [
    "def drop_features(df): \n",
    "      return df.drop(['Claim_Date', 'Employment_Status', 'Location', 'Education', 'Outstanding_Balance'], axis=1)"
   ]
  },
  {
   "cell_type": "markdown",
   "metadata": {},
   "source": [
    "# Justification for Dropping Variables\n",
    "* Claim Date doesn't really help us predict anything other than identifying when claims were made, not why\n",
    "* Employment_Status, Education and Location proved to have insignificant P-values even when tested \n",
    "* Outstanding_Balance contained too many missing values for our liking"
   ]
  },
  {
   "cell_type": "markdown",
   "metadata": {},
   "source": [
    "### Importing matplotlib, seaborn and statsmodels "
   ]
  },
  {
   "cell_type": "code",
   "execution_count": 276,
   "metadata": {},
   "outputs": [],
   "source": [
    "import matplotlib.pyplot as plt\n",
    "import seaborn as sns\n",
    "import statsmodels.formula.api as smf\n",
    "\n",
    "%matplotlib inline"
   ]
  },
  {
   "cell_type": "markdown",
   "metadata": {},
   "source": [
    "### P-Values and Basic Bar Plots\n",
    "* By using statsmodels and seaborn, we can get a combination of P-value statistics and bar plots to visualize data. Below are a few graphs we found to be insignificant to predict Fraudulent Claims, hence, we removed them from the dataset due to their high P-values."
   ]
  },
  {
   "cell_type": "code",
   "execution_count": 277,
   "metadata": {},
   "outputs": [
    {
     "data": {
      "text/plain": [
       "Intercept                             0.000616\n",
       "Employment_Status[T.Employed]         0.968275\n",
       "Employment_Status[T.Medical Leave]    0.732595\n",
       "Employment_Status[T.Retired]          0.632905\n",
       "Employment_Status[T.Unemployed]       0.223811\n",
       "dtype: float64"
      ]
     },
     "execution_count": 277,
     "metadata": {},
     "output_type": "execute_result"
    },
    {
     "data": {
      "image/png": "[encoded data removed]",
      "text/plain": [
       "<Figure size 432x288 with 1 Axes>"
      ]
     },
     "metadata": {},
     "output_type": "display_data"
    }
   ],
   "source": [
    "sns.barplot(x=\"Employment_Status\", y=\"Fraudulent_Claim\", data=Test);\n",
    "\n",
    "lm = smf.ols('Fraudulent_Claim ~ Employment_Status', data=Test).fit()\n",
    "lm.pvalues"
   ]
  },
  {
   "cell_type": "code",
   "execution_count": 278,
   "metadata": {},
   "outputs": [
    {
     "data": {
      "image/png": "[encoded data removed]",
      "text/plain": [
       "<Figure size 432x288 with 1 Axes>"
      ]
     },
     "metadata": {},
     "output_type": "display_data"
    },
    {
     "data": {
      "text/plain": [
       "Intercept                            1.725148e-22\n",
       "Education[T.College]                 8.157113e-01\n",
       "Education[T.Doctor]                  8.636580e-01\n",
       "Education[T.High School or Below]    9.207846e-01\n",
       "Education[T.Master]                  3.626239e-01\n",
       "dtype: float64"
      ]
     },
     "execution_count": 278,
     "metadata": {},
     "output_type": "execute_result"
    }
   ],
   "source": [
    "ax = sns.barplot(x=\"Education\", y=\"Fraudulent_Claim\", data=Test);\n",
    "\n",
    "ax.set_xticklabels(ax.get_xticklabels(), rotation=40, ha=\"right\")\n",
    "plt.tight_layout()\n",
    "plt.show()\n",
    "\n",
    "lm = smf.ols('Fraudulent_Claim ~ Education', data=Test).fit()\n",
    "lm.pvalues\n",
    "\n",
    "# All insignificant"
   ]
  },
  {
   "cell_type": "code",
   "execution_count": 279,
   "metadata": {
    "scrolled": false
   },
   "outputs": [
    {
     "data": {
      "text/plain": [
       "Intercept               4.434533e-10\n",
       "Location[T.Suburban]    7.226087e-02\n",
       "Location[T.Urban]       6.601812e-02\n",
       "dtype: float64"
      ]
     },
     "execution_count": 279,
     "metadata": {},
     "output_type": "execute_result"
    },
    {
     "data": {
      "image/png": "[encoded data removed]",
      "text/plain": [
       "<Figure size 432x288 with 1 Axes>"
      ]
     },
     "metadata": {},
     "output_type": "display_data"
    }
   ],
   "source": [
    "sns.barplot(x=\"Location\", y=\"Fraudulent_Claim\", data=Test);\n",
    "\n",
    "lm = smf.ols('Fraudulent_Claim ~ Location', data=Test).fit()\n",
    "lm.pvalues\n",
    "\n",
    "# All insignificant"
   ]
  },
  {
   "cell_type": "markdown",
   "metadata": {},
   "source": [
    "* Below is a combination of Fraudulent Claim and Location/Education. We tried to see whether or not Location played a significant role in differentiating Education...and we deduced that these values weren't significant enough."
   ]
  },
  {
   "cell_type": "code",
   "execution_count": 280,
   "metadata": {},
   "outputs": [
    {
     "data": {
      "image/png": "[encoded data removed]",
      "text/plain": [
       "<Figure size 432x288 with 1 Axes>"
      ]
     },
     "metadata": {},
     "output_type": "display_data"
    }
   ],
   "source": [
    "ax = sns.barplot(x=\"Education\", y=\"Fraudulent_Claim\", hue=\"Location\", data=Test);\n",
    "\n",
    "ax.set_xticklabels(ax.get_xticklabels(), rotation=40, ha=\"right\")\n",
    "plt.tight_layout()\n",
    "plt.show()"
   ]
  },
  {
   "cell_type": "markdown",
   "metadata": {},
   "source": [
    "### Implementing Transformations\n",
    "* Now we run these df classifiers and return them to get a new dataset."
   ]
  },
  {
   "cell_type": "code",
   "execution_count": 281,
   "metadata": {},
   "outputs": [],
   "source": [
    "def transform_features(df): \n",
    "    df = simplify_claimamount(df)\n",
    "    df = simplify_education(df) \n",
    "    df = drop_features(df) \n",
    "    return df"
   ]
  },
  {
   "cell_type": "code",
   "execution_count": 282,
   "metadata": {
    "scrolled": true
   },
   "outputs": [
    {
     "data": {
      "text/html": [
       "<div>\n",
       "<style scoped>\n",
       "    .dataframe tbody tr th:only-of-type {\n",
       "        vertical-align: middle;\n",
       "    }\n",
       "\n",
       "    .dataframe tbody tr th {\n",
       "        vertical-align: top;\n",
       "    }\n",
       "\n",
       "    .dataframe thead th {\n",
       "        text-align: right;\n",
       "    }\n",
       "</style>\n",
       "<table border=\"1\" class=\"dataframe\">\n",
       "  <thead>\n",
       "    <tr style=\"text-align: right;\">\n",
       "      <th></th>\n",
       "      <th>State_Code</th>\n",
       "      <th>State</th>\n",
       "      <th>Claim_Amount</th>\n",
       "      <th>Gender</th>\n",
       "      <th>Income</th>\n",
       "      <th>Marital_Status</th>\n",
       "      <th>Monthly_Premium</th>\n",
       "      <th>Annual_Premium</th>\n",
       "      <th>Months_Since_Last_Claim</th>\n",
       "      <th>Months_Since_Policy_Inception</th>\n",
       "      <th>Claim_Cause</th>\n",
       "      <th>Claim_Report_Type</th>\n",
       "      <th>Vehicle_Class</th>\n",
       "      <th>Vehicle_Size</th>\n",
       "      <th>Vehicle_Model</th>\n",
       "      <th>Fraudulent_Claim</th>\n",
       "      <th>Claimant__Number</th>\n",
       "    </tr>\n",
       "  </thead>\n",
       "  <tbody>\n",
       "    <tr>\n",
       "      <th>0</th>\n",
       "      <td>NE</td>\n",
       "      <td>Nebraska</td>\n",
       "      <td>Very High</td>\n",
       "      <td>M</td>\n",
       "      <td>14072</td>\n",
       "      <td>Divorced</td>\n",
       "      <td>57</td>\n",
       "      <td>684</td>\n",
       "      <td>13</td>\n",
       "      <td>3</td>\n",
       "      <td>Collision</td>\n",
       "      <td>Agent</td>\n",
       "      <td>Four-Door Car</td>\n",
       "      <td>Midsize</td>\n",
       "      <td>Ford</td>\n",
       "      <td>1</td>\n",
       "      <td>1023</td>\n",
       "    </tr>\n",
       "    <tr>\n",
       "      <th>1</th>\n",
       "      <td>NE</td>\n",
       "      <td>Nebraska</td>\n",
       "      <td>Moderate</td>\n",
       "      <td>F</td>\n",
       "      <td>0</td>\n",
       "      <td>Married</td>\n",
       "      <td>97</td>\n",
       "      <td>1164</td>\n",
       "      <td>18</td>\n",
       "      <td>45</td>\n",
       "      <td>Collision</td>\n",
       "      <td>Call Center</td>\n",
       "      <td>Four-Door Car</td>\n",
       "      <td>Midsize</td>\n",
       "      <td>Honda</td>\n",
       "      <td>1</td>\n",
       "      <td>1231</td>\n",
       "    </tr>\n",
       "    <tr>\n",
       "      <th>2</th>\n",
       "      <td>MO</td>\n",
       "      <td>Missouri</td>\n",
       "      <td>Moderate</td>\n",
       "      <td>M</td>\n",
       "      <td>25134</td>\n",
       "      <td>Married</td>\n",
       "      <td>64</td>\n",
       "      <td>768</td>\n",
       "      <td>3</td>\n",
       "      <td>0</td>\n",
       "      <td>Hail</td>\n",
       "      <td>Call Center</td>\n",
       "      <td>Four-Door Car</td>\n",
       "      <td>Compact</td>\n",
       "      <td>Honda</td>\n",
       "      <td>1</td>\n",
       "      <td>1310</td>\n",
       "    </tr>\n",
       "    <tr>\n",
       "      <th>3</th>\n",
       "      <td>IA</td>\n",
       "      <td>Iowa</td>\n",
       "      <td>Low</td>\n",
       "      <td>M</td>\n",
       "      <td>37057</td>\n",
       "      <td>Married</td>\n",
       "      <td>97</td>\n",
       "      <td>1164</td>\n",
       "      <td>5</td>\n",
       "      <td>48</td>\n",
       "      <td>Collision</td>\n",
       "      <td>Agent</td>\n",
       "      <td>Four-Door Car</td>\n",
       "      <td>Compact</td>\n",
       "      <td>Honda</td>\n",
       "      <td>1</td>\n",
       "      <td>1311</td>\n",
       "    </tr>\n",
       "    <tr>\n",
       "      <th>4</th>\n",
       "      <td>IA</td>\n",
       "      <td>Iowa</td>\n",
       "      <td>Minor</td>\n",
       "      <td>M</td>\n",
       "      <td>29735</td>\n",
       "      <td>Single</td>\n",
       "      <td>137</td>\n",
       "      <td>1644</td>\n",
       "      <td>3</td>\n",
       "      <td>92</td>\n",
       "      <td>Collision</td>\n",
       "      <td>Agent</td>\n",
       "      <td>Four-Door Car</td>\n",
       "      <td>Midsize</td>\n",
       "      <td>Chevrolet</td>\n",
       "      <td>1</td>\n",
       "      <td>1364</td>\n",
       "    </tr>\n",
       "  </tbody>\n",
       "</table>\n",
       "</div>"
      ],
      "text/plain": [
       "  State_Code     State Claim_Amount Gender  Income Marital_Status  \\\n",
       "0         NE  Nebraska    Very High      M   14072       Divorced   \n",
       "1         NE  Nebraska     Moderate      F       0        Married   \n",
       "2         MO  Missouri     Moderate      M   25134        Married   \n",
       "3         IA      Iowa          Low      M   37057        Married   \n",
       "4         IA      Iowa        Minor      M   29735         Single   \n",
       "\n",
       "   Monthly_Premium  Annual_Premium  Months_Since_Last_Claim  \\\n",
       "0               57             684                       13   \n",
       "1               97            1164                       18   \n",
       "2               64             768                        3   \n",
       "3               97            1164                        5   \n",
       "4              137            1644                        3   \n",
       "\n",
       "   Months_Since_Policy_Inception Claim_Cause Claim_Report_Type  Vehicle_Class  \\\n",
       "0                              3   Collision             Agent  Four-Door Car   \n",
       "1                             45   Collision       Call Center  Four-Door Car   \n",
       "2                              0        Hail       Call Center  Four-Door Car   \n",
       "3                             48   Collision             Agent  Four-Door Car   \n",
       "4                             92   Collision             Agent  Four-Door Car   \n",
       "\n",
       "  Vehicle_Size Vehicle_Model  Fraudulent_Claim  Claimant__Number  \n",
       "0      Midsize          Ford                 1              1023  \n",
       "1      Midsize         Honda                 1              1231  \n",
       "2      Compact         Honda                 1              1310  \n",
       "3      Compact         Honda                 1              1311  \n",
       "4      Midsize     Chevrolet                 1              1364  "
      ]
     },
     "execution_count": 282,
     "metadata": {},
     "output_type": "execute_result"
    }
   ],
   "source": [
    "Test = transform_features(Test) \n",
    "Score = transform_features(Score) \n",
    "Test.head()"
   ]
  },
  {
   "cell_type": "markdown",
   "metadata": {},
   "source": [
    "# Graphs and Plots"
   ]
  },
  {
   "cell_type": "markdown",
   "metadata": {},
   "source": [
    "### Using Plotly to Visualize Binned Claim Amount\n",
    "* Through importing plotly and (pip installs plotly) creating my own account on their website, I was able to use their visualization services to 1st recieve a breakdown of the binned Claim_Account and then get a pie graph to represent the newly transformed data."
   ]
  },
  {
   "cell_type": "code",
   "execution_count": 283,
   "metadata": {},
   "outputs": [],
   "source": [
    "import plotly\n",
    "import plotly.plotly as py\n",
    "import plotly.graph_objs as go\n",
    "\n",
    "plotly.tools.set_credentials_file(username='Speederclaw', api_key='GhMO3qBn70cN4OsqoH9g')\n"
   ]
  },
  {
   "cell_type": "code",
   "execution_count": 284,
   "metadata": {},
   "outputs": [
    {
     "data": {
      "text/plain": [
       "Claim_Amount\n",
       "Low               1598\n",
       "Moderate          1229\n",
       "Upper Moderate     872\n",
       "High               715\n",
       "Minor              296\n",
       "Very High          205\n",
       "Insane              86\n",
       "Uknown               0\n",
       "dtype: int64"
      ]
     },
     "execution_count": 284,
     "metadata": {},
     "output_type": "execute_result"
    }
   ],
   "source": [
    "def get_categorical_dist(attr):\n",
    "    return Test.groupby(attr).size().sort_values(ascending=False)\n",
    "\n",
    "get_categorical_dist('Claim_Amount')"
   ]
  },
  {
   "cell_type": "code",
   "execution_count": 285,
   "metadata": {
    "scrolled": true
   },
   "outputs": [
    {
     "name": "stdout",
     "output_type": "stream",
     "text": [
      "High five! You successfully sent some data to your account on plotly. View your plot in your browser at https://plot.ly/~Speederclaw/0 or inside your plot.ly account where it is named 'basic_pie_chart'\n"
     ]
    },
    {
     "data": {
      "text/html": [
       "<iframe id=\"igraph\" scrolling=\"no\" style=\"border:none;\" seamless=\"seamless\" src=\"https://plot.ly/~Speederclaw/0.embed\" height=\"525px\" width=\"100%\"></iframe>"
      ],
      "text/plain": [
       "<plotly.tools.PlotlyDisplay object>"
      ]
     },
     "execution_count": 285,
     "metadata": {},
     "output_type": "execute_result"
    }
   ],
   "source": [
    "gb = get_categorical_dist('Claim_Amount')\n",
    "trace = go.Pie(labels=gb.index, values=gb)\n",
    "\n",
    "\n",
    "py.iplot([trace], filename='basic_pie_chart')"
   ]
  },
  {
   "cell_type": "markdown",
   "metadata": {},
   "source": [
    "### More Barplots \n",
    "* Now that we are done dropping variables, we can use barplots to try and determine some statistics on Fraudulent users."
   ]
  },
  {
   "cell_type": "code",
   "execution_count": 286,
   "metadata": {},
   "outputs": [
    {
     "data": {
      "image/png": "[encoded data removed]",
      "text/plain": [
       "<Figure size 432x288 with 1 Axes>"
      ]
     },
     "metadata": {},
     "output_type": "display_data"
    }
   ],
   "source": [
    "sns.barplot(x=\"State\", y=\"Fraudulent_Claim\", hue=\"State_Code\", data=Test);\n",
    "\n",
    "# Only states with Fraud: Kansas, Iowa, Okhlahoma, Missuri, Nebraska"
   ]
  },
  {
   "cell_type": "markdown",
   "metadata": {},
   "source": [
    "* Here we can assume most tend to be single."
   ]
  },
  {
   "cell_type": "code",
   "execution_count": 287,
   "metadata": {},
   "outputs": [
    {
     "data": {
      "text/plain": [
       "Intercept                    1.817575e-08\n",
       "Marital_Status[T.Married]    6.902041e-01\n",
       "Marital_Status[T.Single]     7.471003e-04\n",
       "dtype: float64"
      ]
     },
     "execution_count": 287,
     "metadata": {},
     "output_type": "execute_result"
    },
    {
     "data": {
      "image/png": "[encoded data removed]",
      "text/plain": [
       "<Figure size 432x288 with 1 Axes>"
      ]
     },
     "metadata": {},
     "output_type": "display_data"
    }
   ],
   "source": [
    "sns.barplot(x=\"Marital_Status\", y=\"Fraudulent_Claim\", data=Test);\n",
    "\n",
    "lm = smf.ols('Fraudulent_Claim ~ Marital_Status', data=Test).fit()\n",
    "lm.pvalues"
   ]
  },
  {
   "cell_type": "markdown",
   "metadata": {},
   "source": [
    "* Here we can assume a vast majority tend to be male"
   ]
  },
  {
   "cell_type": "code",
   "execution_count": 288,
   "metadata": {
    "scrolled": false
   },
   "outputs": [
    {
     "data": {
      "text/plain": [
       "Intercept      1.542035e-07\n",
       "Gender[T.M]    2.467379e-26\n",
       "dtype: float64"
      ]
     },
     "execution_count": 288,
     "metadata": {},
     "output_type": "execute_result"
    },
    {
     "data": {
      "image/png": "[encoded data removed]",
      "text/plain": [
       "<Figure size 432x288 with 1 Axes>"
      ]
     },
     "metadata": {},
     "output_type": "display_data"
    }
   ],
   "source": [
    "sns.barplot(x=\"Gender\", y=\"Fraudulent_Claim\", data=Test);\n",
    "\n",
    "lm = smf.ols('Fraudulent_Claim ~ Gender', data=Test).fit()\n",
    "lm.pvalues\n",
    "\n",
    "# Male significant"
   ]
  },
  {
   "cell_type": "markdown",
   "metadata": {},
   "source": [
    "* Now we can test our newly binned Claim_Amount for Fraudulent Claims...and results indicate Minor or Very High Claims tend to be fraud"
   ]
  },
  {
   "cell_type": "code",
   "execution_count": 289,
   "metadata": {},
   "outputs": [
    {
     "data": {
      "image/png": "[encoded data removed]",
      "text/plain": [
       "<Figure size 432x288 with 1 Axes>"
      ]
     },
     "metadata": {},
     "output_type": "display_data"
    },
    {
     "data": {
      "text/plain": [
       "Intercept                         2.738090e-30\n",
       "Claim_Amount[T.Minor]             2.000008e-04\n",
       "Claim_Amount[T.Low]               8.954491e-02\n",
       "Claim_Amount[T.Moderate]          1.429658e-01\n",
       "Claim_Amount[T.Upper Moderate]    7.285657e-01\n",
       "Claim_Amount[T.High]              4.279043e-02\n",
       "Claim_Amount[T.Very High]         9.612545e-03\n",
       "Claim_Amount[T.Insane]            6.842709e-02\n",
       "dtype: float64"
      ]
     },
     "execution_count": 289,
     "metadata": {},
     "output_type": "execute_result"
    }
   ],
   "source": [
    "ax = sns.barplot(x=\"Claim_Amount\", y=\"Fraudulent_Claim\", data=Test);\n",
    "\n",
    "ax.set_xticklabels(ax.get_xticklabels(), rotation=40, ha=\"right\")\n",
    "plt.tight_layout()\n",
    "plt.show()\n",
    "\n",
    "lm = smf.ols('Fraudulent_Claim ~ Claim_Amount', data=Test).fit()\n",
    "lm.pvalues\n",
    "\n",
    "# Minor, Very High significant"
   ]
  },
  {
   "cell_type": "markdown",
   "metadata": {},
   "source": [
    "### Claim and Vehicle Data Tested by State\n",
    "* Below are a few graphs we ran against the variable State to see the breakdown of Claim/Vehicle data within each of the 5 states. To our surprise, there are some definite variances to consider. "
   ]
  },
  {
   "cell_type": "code",
   "execution_count": 290,
   "metadata": {},
   "outputs": [
    {
     "data": {
      "image/png": "[encoded data removed]",
      "text/plain": [
       "<Figure size 432x288 with 1 Axes>"
      ]
     },
     "metadata": {},
     "output_type": "display_data"
    }
   ],
   "source": [
    "sns.barplot(x=\"Claim_Cause\", y=\"Fraudulent_Claim\", hue=\"State_Code\", data=Test);"
   ]
  },
  {
   "cell_type": "code",
   "execution_count": 291,
   "metadata": {},
   "outputs": [
    {
     "data": {
      "image/png": "[encoded data removed]",
      "text/plain": [
       "<Figure size 432x288 with 1 Axes>"
      ]
     },
     "metadata": {},
     "output_type": "display_data"
    }
   ],
   "source": [
    "sns.barplot(x=\"Claim_Report_Type\", y=\"Fraudulent_Claim\", hue=\"State_Code\", data=Test);"
   ]
  },
  {
   "cell_type": "code",
   "execution_count": 292,
   "metadata": {},
   "outputs": [
    {
     "data": {
      "image/png": "[encoded data removed]",
      "text/plain": [
       "<Figure size 432x288 with 1 Axes>"
      ]
     },
     "metadata": {},
     "output_type": "display_data"
    }
   ],
   "source": [
    "sns.barplot(x=\"Vehicle_Size\", y=\"Fraudulent_Claim\", hue=\"State_Code\", data=Test);"
   ]
  },
  {
   "cell_type": "code",
   "execution_count": 293,
   "metadata": {},
   "outputs": [
    {
     "data": {
      "image/png": "[encoded data removed]",
      "text/plain": [
       "<Figure size 432x288 with 1 Axes>"
      ]
     },
     "metadata": {},
     "output_type": "display_data"
    }
   ],
   "source": [
    "sns.barplot(x=\"Vehicle_Model\", y=\"Fraudulent_Claim\", hue=\"State_Code\", data=Test);"
   ]
  },
  {
   "cell_type": "code",
   "execution_count": 294,
   "metadata": {},
   "outputs": [
    {
     "data": {
      "image/png": "[encoded data removed]",
      "text/plain": [
       "<Figure size 432x288 with 1 Axes>"
      ]
     },
     "metadata": {},
     "output_type": "display_data"
    }
   ],
   "source": [
    "sns.barplot(x=\"Vehicle_Model\", y=\"Fraudulent_Claim\", hue=\"State_Code\", data=Test);"
   ]
  },
  {
   "cell_type": "markdown",
   "metadata": {},
   "source": [
    "# FAILURE to get Altair Library to work... \n",
    "* We were going to look at stacked area charts for Claim Amount and other vehicle/claim-related nominal variables."
   ]
  },
  {
   "cell_type": "code",
   "execution_count": 295,
   "metadata": {},
   "outputs": [
    {
     "data": {
      "text/plain": [
       "'import altair as alt\\nalt.schema.SCHEMA_VERSION\\nfrom vega_datasets import data\\n\\nsource = data.iowa_electricity()\\n\\nalt.Chart(source).mark_area().encode(\\n    x=\"Claim_Amount:T\",\\n    y=alt.Y(\"Fraudulent_Claim:Q\", stack=\"normalize\"),\\n    color=\"State:N\"\\n)\\n'"
      ]
     },
     "execution_count": 295,
     "metadata": {},
     "output_type": "execute_result"
    }
   ],
   "source": [
    "'''import altair as alt\n",
    "alt.schema.SCHEMA_VERSION\n",
    "from vega_datasets import data\n",
    "\n",
    "source = data.iowa_electricity()\n",
    "\n",
    "alt.Chart(source).mark_area().encode(\n",
    "    x=\"Claim_Amount:T\",\n",
    "    y=alt.Y(\"Fraudulent_Claim:Q\", stack=\"normalize\"),\n",
    "    color=\"State:N\"\n",
    ")\n",
    "'''"
   ]
  },
  {
   "cell_type": "markdown",
   "metadata": {},
   "source": [
    "# Preparing to Predict -- Encoding Part II\n",
    "* We encoded earlier, but now we will encode again with all variables to help our predictive algorithims run smoother. "
   ]
  },
  {
   "cell_type": "code",
   "execution_count": 296,
   "metadata": {},
   "outputs": [],
   "source": [
    "from sklearn import preprocessing \n",
    "def encode_features(df_Test): \n",
    "    features = ['Fraudulent_Claim', 'State_Code', 'Claim_Amount', 'State', 'Marital_Status', 'Gender', 'Claim_Cause', 'Claim_Report_Type', 'Vehicle_Class', 'Vehicle_Size', 'Vehicle_Model']\n",
    "    for feature in features: \n",
    "        le = preprocessing.LabelEncoder() \n",
    "        le = le.fit(df_Test[feature]) \n",
    "        df_Test[feature] = le.transform(df_Test[feature]) \n",
    "    return df_Test"
   ]
  },
  {
   "cell_type": "code",
   "execution_count": 297,
   "metadata": {},
   "outputs": [
    {
     "data": {
      "text/html": [
       "<div>\n",
       "<style scoped>\n",
       "    .dataframe tbody tr th:only-of-type {\n",
       "        vertical-align: middle;\n",
       "    }\n",
       "\n",
       "    .dataframe tbody tr th {\n",
       "        vertical-align: top;\n",
       "    }\n",
       "\n",
       "    .dataframe thead th {\n",
       "        text-align: right;\n",
       "    }\n",
       "</style>\n",
       "<table border=\"1\" class=\"dataframe\">\n",
       "  <thead>\n",
       "    <tr style=\"text-align: right;\">\n",
       "      <th></th>\n",
       "      <th>State_Code</th>\n",
       "      <th>State</th>\n",
       "      <th>Claim_Amount</th>\n",
       "      <th>Gender</th>\n",
       "      <th>Income</th>\n",
       "      <th>Marital_Status</th>\n",
       "      <th>Monthly_Premium</th>\n",
       "      <th>Annual_Premium</th>\n",
       "      <th>Months_Since_Last_Claim</th>\n",
       "      <th>Months_Since_Policy_Inception</th>\n",
       "      <th>Claim_Cause</th>\n",
       "      <th>Claim_Report_Type</th>\n",
       "      <th>Vehicle_Class</th>\n",
       "      <th>Vehicle_Size</th>\n",
       "      <th>Vehicle_Model</th>\n",
       "      <th>Fraudulent_Claim</th>\n",
       "      <th>Claimant__Number</th>\n",
       "    </tr>\n",
       "  </thead>\n",
       "  <tbody>\n",
       "    <tr>\n",
       "      <th>0</th>\n",
       "      <td>3</td>\n",
       "      <td>3</td>\n",
       "      <td>6</td>\n",
       "      <td>1</td>\n",
       "      <td>14072</td>\n",
       "      <td>0</td>\n",
       "      <td>57</td>\n",
       "      <td>684</td>\n",
       "      <td>13</td>\n",
       "      <td>3</td>\n",
       "      <td>0</td>\n",
       "      <td>0</td>\n",
       "      <td>0</td>\n",
       "      <td>2</td>\n",
       "      <td>1</td>\n",
       "      <td>1</td>\n",
       "      <td>1023</td>\n",
       "    </tr>\n",
       "    <tr>\n",
       "      <th>1</th>\n",
       "      <td>3</td>\n",
       "      <td>3</td>\n",
       "      <td>4</td>\n",
       "      <td>0</td>\n",
       "      <td>0</td>\n",
       "      <td>1</td>\n",
       "      <td>97</td>\n",
       "      <td>1164</td>\n",
       "      <td>18</td>\n",
       "      <td>45</td>\n",
       "      <td>0</td>\n",
       "      <td>2</td>\n",
       "      <td>0</td>\n",
       "      <td>2</td>\n",
       "      <td>2</td>\n",
       "      <td>1</td>\n",
       "      <td>1231</td>\n",
       "    </tr>\n",
       "    <tr>\n",
       "      <th>2</th>\n",
       "      <td>2</td>\n",
       "      <td>2</td>\n",
       "      <td>4</td>\n",
       "      <td>1</td>\n",
       "      <td>25134</td>\n",
       "      <td>1</td>\n",
       "      <td>64</td>\n",
       "      <td>768</td>\n",
       "      <td>3</td>\n",
       "      <td>0</td>\n",
       "      <td>2</td>\n",
       "      <td>2</td>\n",
       "      <td>0</td>\n",
       "      <td>0</td>\n",
       "      <td>2</td>\n",
       "      <td>1</td>\n",
       "      <td>1310</td>\n",
       "    </tr>\n",
       "    <tr>\n",
       "      <th>3</th>\n",
       "      <td>0</td>\n",
       "      <td>0</td>\n",
       "      <td>2</td>\n",
       "      <td>1</td>\n",
       "      <td>37057</td>\n",
       "      <td>1</td>\n",
       "      <td>97</td>\n",
       "      <td>1164</td>\n",
       "      <td>5</td>\n",
       "      <td>48</td>\n",
       "      <td>0</td>\n",
       "      <td>0</td>\n",
       "      <td>0</td>\n",
       "      <td>0</td>\n",
       "      <td>2</td>\n",
       "      <td>1</td>\n",
       "      <td>1311</td>\n",
       "    </tr>\n",
       "    <tr>\n",
       "      <th>4</th>\n",
       "      <td>0</td>\n",
       "      <td>0</td>\n",
       "      <td>3</td>\n",
       "      <td>1</td>\n",
       "      <td>29735</td>\n",
       "      <td>2</td>\n",
       "      <td>137</td>\n",
       "      <td>1644</td>\n",
       "      <td>3</td>\n",
       "      <td>92</td>\n",
       "      <td>0</td>\n",
       "      <td>0</td>\n",
       "      <td>0</td>\n",
       "      <td>2</td>\n",
       "      <td>0</td>\n",
       "      <td>1</td>\n",
       "      <td>1364</td>\n",
       "    </tr>\n",
       "  </tbody>\n",
       "</table>\n",
       "</div>"
      ],
      "text/plain": [
       "   State_Code  State  Claim_Amount  Gender  Income  Marital_Status  \\\n",
       "0           3      3             6       1   14072               0   \n",
       "1           3      3             4       0       0               1   \n",
       "2           2      2             4       1   25134               1   \n",
       "3           0      0             2       1   37057               1   \n",
       "4           0      0             3       1   29735               2   \n",
       "\n",
       "   Monthly_Premium  Annual_Premium  Months_Since_Last_Claim  \\\n",
       "0               57             684                       13   \n",
       "1               97            1164                       18   \n",
       "2               64             768                        3   \n",
       "3               97            1164                        5   \n",
       "4              137            1644                        3   \n",
       "\n",
       "   Months_Since_Policy_Inception  Claim_Cause  Claim_Report_Type  \\\n",
       "0                              3            0                  0   \n",
       "1                             45            0                  2   \n",
       "2                              0            2                  2   \n",
       "3                             48            0                  0   \n",
       "4                             92            0                  0   \n",
       "\n",
       "   Vehicle_Class  Vehicle_Size  Vehicle_Model  Fraudulent_Claim  \\\n",
       "0              0             2              1                 1   \n",
       "1              0             2              2                 1   \n",
       "2              0             0              2                 1   \n",
       "3              0             0              2                 1   \n",
       "4              0             2              0                 1   \n",
       "\n",
       "   Claimant__Number  \n",
       "0              1023  \n",
       "1              1231  \n",
       "2              1310  \n",
       "3              1311  \n",
       "4              1364  "
      ]
     },
     "execution_count": 297,
     "metadata": {},
     "output_type": "execute_result"
    }
   ],
   "source": [
    "Test = encode_features(Test) \n",
    "Score = encode_features(Score) \n",
    "Test.head()"
   ]
  },
  {
   "cell_type": "markdown",
   "metadata": {},
   "source": [
    "# Split Training and Testing Datasets\n",
    "* The X set will contain Fraudulent and Claiment # while the Y set simply contains Fraudulent. X_all represents all features minus the value we wish to predict and y_all represents the only value we wish to predict.\n",
    "\n",
    "* With num_test we are training 80% of the data and testing it against the other 20%. "
   ]
  },
  {
   "cell_type": "code",
   "execution_count": 298,
   "metadata": {},
   "outputs": [],
   "source": [
    "from sklearn.model_selection import train_test_split \n",
    "\n",
    "X_all = Test.drop(['Fraudulent_Claim', 'Claimant__Number'], axis=1) \n",
    "y_all = Test['Fraudulent_Claim'] \n",
    "\n",
    "num_test = 0.20 \n",
    "\n",
    "X_train, X_test, y_train, y_test = train_test_split(X_all, y_all, \n",
    "    test_size=num_test, random_state=23)"
   ]
  },
  {
   "cell_type": "markdown",
   "metadata": {},
   "source": [
    "### Decision Tree "
   ]
  },
  {
   "cell_type": "code",
   "execution_count": 299,
   "metadata": {},
   "outputs": [
    {
     "data": {
      "text/plain": [
       "DecisionTreeClassifier(class_weight=None, criterion='entropy', max_depth=None,\n",
       "            max_features=None, max_leaf_nodes=None,\n",
       "            min_impurity_decrease=0.0, min_impurity_split=None,\n",
       "            min_samples_leaf=1, min_samples_split=2,\n",
       "            min_weight_fraction_leaf=0.0, presort=False, random_state=None,\n",
       "            splitter='best')"
      ]
     },
     "execution_count": 299,
     "metadata": {},
     "output_type": "execute_result"
    }
   ],
   "source": [
    "from sklearn.tree import DecisionTreeClassifier\n",
    "from sklearn.metrics import accuracy_score\n",
    "\n",
    "# Choose the type of classifier. \n",
    "clf = DecisionTreeClassifier(criterion='entropy') \n",
    "\n",
    "# Fit the algorithm to the data. \n",
    "clf.fit(X_train, y_train)"
   ]
  },
  {
   "cell_type": "code",
   "execution_count": 300,
   "metadata": {},
   "outputs": [
    {
     "name": "stdout",
     "output_type": "stream",
     "text": [
      "0.8751248751248751\n"
     ]
    }
   ],
   "source": [
    "predictions = clf.predict(X_test)\n",
    "print(accuracy_score(y_test, predictions))"
   ]
  },
  {
   "cell_type": "code",
   "execution_count": 301,
   "metadata": {},
   "outputs": [
    {
     "name": "stdout",
     "output_type": "stream",
     "text": [
      "                               Importance\n",
      "Income                           0.159359\n",
      "Months_Since_Policy_Inception    0.133284\n",
      "Months_Since_Last_Claim          0.094188\n",
      "Annual_Premium                   0.088300\n",
      "Claim_Amount                     0.079533\n",
      "Vehicle_Class                    0.076693\n",
      "Monthly_Premium                  0.076379\n",
      "Claim_Cause                      0.068480\n",
      "Gender                           0.047979\n",
      "Vehicle_Size                     0.037529\n",
      "State                            0.029271\n",
      "Marital_Status                   0.028738\n",
      "State_Code                       0.028614\n",
      "Vehicle_Model                    0.026088\n",
      "Claim_Report_Type                0.025563\n"
     ]
    }
   ],
   "source": [
    "fi = clf.feature_importances_\n",
    "col = X_train.columns\n",
    "feat_imp = pd.DataFrame(fi, columns=['Importance'],index=col).sort_values(by='Importance', ascending=False)\n",
    "print(feat_imp)"
   ]
  },
  {
   "cell_type": "markdown",
   "metadata": {},
   "source": [
    "### Logistic Regression"
   ]
  },
  {
   "cell_type": "code",
   "execution_count": 302,
   "metadata": {},
   "outputs": [
    {
     "data": {
      "text/plain": [
       "LogisticRegression(C=1.0, class_weight=None, dual=False, fit_intercept=True,\n",
       "          intercept_scaling=1, max_iter=100, multi_class='ovr', n_jobs=1,\n",
       "          penalty='l2', random_state=None, solver='liblinear', tol=0.0001,\n",
       "          verbose=0, warm_start=False)"
      ]
     },
     "execution_count": 302,
     "metadata": {},
     "output_type": "execute_result"
    }
   ],
   "source": [
    "from sklearn.linear_model import LogisticRegression\n",
    "# http://scikit-learn.org/stable/modules/generated/sklearn.linear_model.LogisticRegression.html\n",
    "# Choose the type of classifier. \n",
    "clf1 = LogisticRegression() \n",
    "\n",
    "# Fit the algorithm to the data. \n",
    "clf1.fit(X_train, y_train)"
   ]
  },
  {
   "cell_type": "code",
   "execution_count": 303,
   "metadata": {},
   "outputs": [
    {
     "name": "stdout",
     "output_type": "stream",
     "text": [
      "0.942057942057942\n"
     ]
    }
   ],
   "source": [
    "predictions = clf1.predict(X_test)\n",
    "print(accuracy_score(y_test, predictions))"
   ]
  },
  {
   "cell_type": "markdown",
   "metadata": {},
   "source": [
    "### RandomForest"
   ]
  },
  {
   "cell_type": "code",
   "execution_count": 304,
   "metadata": {},
   "outputs": [
    {
     "data": {
      "text/plain": [
       "RandomForestClassifier(bootstrap=False, class_weight=None, criterion='gini',\n",
       "            max_depth=10, max_features=1, max_leaf_nodes=None,\n",
       "            min_impurity_decrease=0.0, min_impurity_split=None,\n",
       "            min_samples_leaf=1, min_samples_split=2,\n",
       "            min_weight_fraction_leaf=0.0, n_estimators=100, n_jobs=1,\n",
       "            oob_score=False, random_state=None, verbose=0,\n",
       "            warm_start=False)"
      ]
     },
     "execution_count": 304,
     "metadata": {},
     "output_type": "execute_result"
    }
   ],
   "source": [
    "from sklearn.ensemble import RandomForestClassifier\n",
    "# http://scikit-learn.org/stable/modules/generated/sklearn.ensemble.RandomForestClassifier.html#\n",
    "clf2 = RandomForestClassifier(bootstrap=False, n_estimators=100, max_features=1, max_depth=10)\n",
    "\n",
    "# Fit the algorithm to the data. \n",
    "clf2.fit(X_train, y_train)"
   ]
  },
  {
   "cell_type": "code",
   "execution_count": 305,
   "metadata": {},
   "outputs": [
    {
     "name": "stdout",
     "output_type": "stream",
     "text": [
      "0.942057942057942\n"
     ]
    }
   ],
   "source": [
    "predictions = clf2.predict(X_test)\n",
    "print(accuracy_score(y_test, predictions))"
   ]
  },
  {
   "cell_type": "markdown",
   "metadata": {},
   "source": [
    "# Testing the Dataset against the Scoring Sheet"
   ]
  },
  {
   "cell_type": "code",
   "execution_count": 306,
   "metadata": {},
   "outputs": [],
   "source": [
    "X_all = Score.drop(['Fraudulent_Claim', 'Claimant__Number'], axis=1) \n",
    "y_all = Score['Fraudulent_Claim'] "
   ]
  },
  {
   "cell_type": "code",
   "execution_count": 307,
   "metadata": {},
   "outputs": [
    {
     "name": "stdout",
     "output_type": "stream",
     "text": [
      "0.8557884231536926\n"
     ]
    }
   ],
   "source": [
    "predictions = clf2.predict(X_all)\n",
    "print(accuracy_score(y_all, predictions))"
   ]
  },
  {
   "cell_type": "markdown",
   "metadata": {},
   "source": [
    "# Conclusion\n",
    "* Logistic Regression and RandomForest both predicted a ~94% accuracy rating...although we are not entirely sure why the score is so high. For the Scored dataset, we only reached ~85% accuracy rating which isn't too bad, however, our model may be overfitted due to how close the datasets are in integrity. \n",
    "\n",
    "* Claim_Amount is an important indicator as over 50% of the claims were made in the low-moderate bracket range\n",
    "* Demographics such as gender and marital status are important as well for identifying the person of interest...other variables such as age and household size (children) would've helped. \n",
    "* Being able to determine location (suburban vs urban) would've helped, but we ended up dropping that column"
   ]
  },
  {
   "cell_type": "code",
   "execution_count": null,
   "metadata": {},
   "outputs": [],
   "source": []
  }
 ],
 "metadata": {
  "kernelspec": {
   "display_name": "Python 3",
   "language": "python",
   "name": "python3"
  },
  "language_info": {
   "codemirror_mode": {
    "name": "ipython",
    "version": 3
   },
   "file_extension": ".py",
   "mimetype": "text/x-python",
   "name": "python",
   "nbconvert_exporter": "python",
   "pygments_lexer": "ipython3",
   "version": "3.6.5"
  }
 },
 "nbformat": 4,
 "nbformat_minor": 2
}
